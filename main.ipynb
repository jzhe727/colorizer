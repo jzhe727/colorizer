{
 "cells": [
  {
   "cell_type": "code",
   "execution_count": 3,
   "id": "8d3228c8-41ca-4f37-9060-f19d7b3c7339",
   "metadata": {
    "tags": []
   },
   "outputs": [],
   "source": [
    "import torch\n",
    "import torch.nn as nn\n",
    "import torchvision\n",
    "from torchvision import datasets\n",
    "from torch.utils.data import Dataset, DataLoader, random_split\n",
    "import numpy as np\n",
    "from torchvision import datasets, transforms\n",
    "from PIL import Image, ImageOps\n",
    "import matplotlib.pyplot as plt\n",
    "import import_ipynb\n",
    "import glob\n",
    "import random\n",
    "import cv2\n",
    "import imutils\n",
    "# %run data.ipynb"
   ]
  },
  {
   "cell_type": "code",
   "execution_count": null,
   "id": "c369ca72-0a0b-446c-a28f-6533ff149c4a",
   "metadata": {},
   "outputs": [],
   "source": []
  },
  {
   "cell_type": "markdown",
   "id": "e77e9a77",
   "metadata": {},
   "source": [
    "# Basic U-Net \n",
    "Based on https://www.mdpi.com/2073-8994/14/11/2295 \n",
    "Using https://github.com/richzhang/colorization/blob/master/colorizers/eccv16.py for syntax help"
   ]
  },
  {
   "cell_type": "code",
   "execution_count": 4,
   "id": "7b723f22-dae1-4ebe-9aa3-379cf5e22dbc",
   "metadata": {
    "tags": []
   },
   "outputs": [
    {
     "ename": "SyntaxError",
     "evalue": "incomplete input (2804254556.py, line 66)",
     "output_type": "error",
     "traceback": [
      "\u001b[0;36m  Cell \u001b[0;32mIn[4], line 66\u001b[0;36m\u001b[0m\n\u001b[0;31m    \u001b[0m\n\u001b[0m    ^\u001b[0m\n\u001b[0;31mSyntaxError\u001b[0m\u001b[0;31m:\u001b[0m incomplete input\n"
     ]
    }
   ],
   "source": [
    "class CUNet(nn.Model):\n",
    "    def __init__(self, batch = nn.BatchNorm2d):\n",
    "\n",
    "        # this one downsamples using avg pool idk\n",
    "        \n",
    "        # output dim = floor(input dim)\n",
    "        self.down = torch.nn.AvgPool2d(2) \n",
    "\n",
    "        self.conv1_1 = nn.Sequential(\n",
    "            nn.Conv2d(1, 64, kernel_size = 3, step = 1, padding = 1),\n",
    "            nn.Sigmoid(),\n",
    "            nn.BatchNorm2d()\n",
    "        )\n",
    "\n",
    "        self.conv1_2 = nn.Sequential(\n",
    "            nn.Conv2d(64, 64, kernel_size = 3, step = 1, padding = 1),\n",
    "            nn.Sigmoid(),\n",
    "            nn.BatchNorm2d()\n",
    "        )\n",
    "\n",
    "        #downsample\n",
    "\n",
    "        self.conv2_1 = nn.Sequential(\n",
    "            nn.Conv2d(64, 128, kernel_size = 3, step = 1, padding = 1),\n",
    "            nn.Sigmoid(),\n",
    "            nn.BatchNorm2d()\n",
    "        )\n",
    "\n",
    "        self.conv2_2 = nn.Sequential(\n",
    "            nn.Conv2d(128, 128, kernel_size = 3, step = 1, padding = 1),\n",
    "            nn.Sigmoid(),\n",
    "            nn.BatchNorm2d()\n",
    "        )\n",
    "\n",
    "        #downsample\n",
    "\n",
    "        self.conv3_1 = nn.Sequential(\n",
    "            nn.Conv2d(128, 256, kernel_size = 3, step = 1, padding = 1),\n",
    "            nn.Sigmoid(),\n",
    "            nn.BatchNorm2d()\n",
    "        )\n",
    "\n",
    "        self.conv3_2 = nn.Sequential(\n",
    "            nn.Conv2d(256, 256, kernel_size = 3, step = 1, padding = 1),\n",
    "            nn.Sigmoid(),\n",
    "            nn.BatchNorm2d()\n",
    "        )\n",
    "\n",
    "        #downsample\n",
    "\n",
    "        self.conv4_1 = nn.Sequential(\n",
    "            nn.Conv2d(128, 256, kernel_size = 3, step = 1, padding = 1),\n",
    "            nn.Sigmoid(),\n",
    "            nn.BatchNorm2d()\n",
    "        )\n",
    "\n",
    "        self.conv4_2 = nn.Sequential(\n",
    "            nn.Conv2d(128, 256, kernel_size = 3, step = 1, padding = 1),\n",
    "            nn.Sigmoid(),\n",
    "            nn.BatchNorm2d()\n",
    "        )\n",
    "\n",
    "        \n",
    "    def forward(self, x):\n",
    "\n",
    "    "
   ]
  },
  {
   "cell_type": "code",
   "execution_count": null,
   "id": "e40700bd-b6a9-4505-bafd-f7371e745405",
   "metadata": {},
   "outputs": [],
   "source": []
  },
  {
   "cell_type": "code",
   "execution_count": null,
   "id": "d3a0f9e9-6cfc-4a38-8fb8-8bc84053f9de",
   "metadata": {},
   "outputs": [],
   "source": []
  },
  {
   "cell_type": "code",
   "execution_count": null,
   "id": "b340138e-5241-4773-907d-4b98f0631bba",
   "metadata": {},
   "outputs": [],
   "source": []
  },
  {
   "cell_type": "code",
   "execution_count": null,
   "id": "6ce0dbbe-7c3a-499a-8f35-cdec6b8d7cdc",
   "metadata": {},
   "outputs": [],
   "source": []
  },
  {
   "cell_type": "code",
   "execution_count": null,
   "id": "fd2f6696-6b0a-4b62-9951-a74b858dd3be",
   "metadata": {},
   "outputs": [],
   "source": []
  },
  {
   "cell_type": "code",
   "execution_count": null,
   "id": "b4abffb3-428a-4e07-9710-b530d63a2a98",
   "metadata": {},
   "outputs": [],
   "source": []
  },
  {
   "cell_type": "code",
   "execution_count": null,
   "id": "addc3ab3-2796-44ac-a26f-01ae14203923",
   "metadata": {},
   "outputs": [],
   "source": []
  },
  {
   "cell_type": "code",
   "execution_count": null,
   "id": "faf33ca4-be9f-4b11-a84f-cbaed88f7814",
   "metadata": {},
   "outputs": [],
   "source": []
  }
 ],
 "metadata": {
  "kernelspec": {
   "display_name": "Python 3 (ipykernel)",
   "language": "python",
   "name": "python3"
  },
  "language_info": {
   "codemirror_mode": {
    "name": "ipython",
    "version": 3
   },
   "file_extension": ".py",
   "mimetype": "text/x-python",
   "name": "python",
   "nbconvert_exporter": "python",
   "pygments_lexer": "ipython3",
   "version": "3.10.5"
  }
 },
 "nbformat": 4,
 "nbformat_minor": 5
}
