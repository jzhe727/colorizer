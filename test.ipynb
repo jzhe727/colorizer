{
 "cells": [
  {
   "cell_type": "code",
   "execution_count": 1,
   "id": "0580ea68-37b7-4111-b897-57241e786342",
   "metadata": {
    "tags": []
   },
   "outputs": [],
   "source": [
    "import torch\n",
    "import torch.nn as nn\n",
    "import torch.nn.functional as F\n",
    "import torchvision\n",
    "from torchvision import datasets\n",
    "from torch.utils.data import Dataset, DataLoader, random_split\n",
    "import numpy as np\n",
    "from torchvision import datasets, transforms\n",
    "from PIL import Image, ImageOps\n",
    "import matplotlib.pyplot as plt\n",
    "import glob\n",
    "import random\n",
    "import cv2\n",
    "import imutils\n",
    "from skimage import color"
   ]
  },
  {
   "cell_type": "code",
   "execution_count": 2,
   "id": "156fce2e-811d-4050-8754-2cb8b7ab6f3f",
   "metadata": {
    "tags": []
   },
   "outputs": [],
   "source": [
    "def postprocess_img(tens_orig_l, out_ab):\n",
    "    out_shape = out_ab.shape[2:]\n",
    "    orig_shape = tens_orig_l.shape[2:]\n",
    "    \n",
    "    if(out_shape!=orig_shape):\n",
    "        out_ab_orig = F.interpolate(out_ab, size=orig_shape, mode='bilinear')\n",
    "    \n",
    "    print(out_ab_orig.shape)\n",
    "    print(tens_orig_l.shape)\n",
    "    \n",
    "    concat = torch.cat((tens_orig_l, out_ab_orig), dim=1) # stack l on top of a,b\n",
    "    concat = concat[0,:,:,:]\n",
    "    print(concat.shape) \n",
    "    permute = concat.permute(1,2,0)                  # permute the image [1,256,256] -> [256,256,1]\n",
    "    rebuilt_image = color.lab2rgb(permute)           # convert to rgb\n",
    "    \n",
    "    return rebuilt_image,permute"
   ]
  },
  {
   "cell_type": "code",
   "execution_count": null,
   "id": "048abd69-ba38-485f-a9bd-c4902d29ab8b",
   "metadata": {},
   "outputs": [],
   "source": [
    "l_orig, l_rs = temp.preprocess_img(temp[0])"
   ]
  },
  {
   "cell_type": "code",
   "execution_count": null,
   "id": "77ed087c-3843-4707-9bd5-7eb8609c6c93",
   "metadata": {},
   "outputs": [],
   "source": [
    "a2 = torch.rand((1,256,256))\n",
    "a2 = torch.mul(a2,600)\n",
    "b2 = torch.rand((1,256,256))\n",
    "b2 = torch.mul(b2,600)\n",
    "\n",
    "ab = torch.cat((a2,b2), dim=0)\n",
    "\n",
    "ab = ab[None,:,:,:]\n",
    "l_orig = l_orig[None,:,:,:]\n",
    "\n",
    "print(ab.shape)\n",
    "print(l_orig.shape)"
   ]
  },
  {
   "cell_type": "code",
   "execution_count": null,
   "id": "6844a89d-d02a-45fa-afc0-b7887fa71197",
   "metadata": {},
   "outputs": [],
   "source": [
    "img,perm = postprocess_img(l_orig, ab)"
   ]
  },
  {
   "cell_type": "code",
   "execution_count": null,
   "id": "5e158c40-d751-4319-b89f-dec0e5a89f35",
   "metadata": {},
   "outputs": [],
   "source": [
    "plt.imshow(img)"
   ]
  },
  {
   "cell_type": "code",
   "execution_count": null,
   "id": "2ef8e4a9-9f14-4e22-b4c1-f744a07f53ee",
   "metadata": {},
   "outputs": [],
   "source": [
    "plt.imshow(perm)"
   ]
  },
  {
   "cell_type": "code",
   "execution_count": null,
   "id": "26d1c9c3-91cd-4edb-a026-d36f1c048398",
   "metadata": {},
   "outputs": [],
   "source": []
  },
  {
   "cell_type": "code",
   "execution_count": null,
   "id": "41cb467b-fdd4-43a3-a0f8-7c9545de223b",
   "metadata": {},
   "outputs": [],
   "source": []
  },
  {
   "cell_type": "code",
   "execution_count": null,
   "id": "b14da571-223b-4937-a967-025bb906658b",
   "metadata": {},
   "outputs": [],
   "source": []
  },
  {
   "cell_type": "code",
   "execution_count": null,
   "id": "d73c65ae-b40f-41b1-864c-3833cec53d22",
   "metadata": {},
   "outputs": [],
   "source": []
  },
  {
   "cell_type": "code",
   "execution_count": null,
   "id": "7073da28-815b-4a96-992b-dcc823516f0a",
   "metadata": {},
   "outputs": [],
   "source": []
  }
 ],
 "metadata": {
  "kernelspec": {
   "display_name": "Python 3 (ipykernel)",
   "language": "python",
   "name": "python3"
  },
  "language_info": {
   "codemirror_mode": {
    "name": "ipython",
    "version": 3
   },
   "file_extension": ".py",
   "mimetype": "text/x-python",
   "name": "python",
   "nbconvert_exporter": "python",
   "pygments_lexer": "ipython3",
   "version": "3.10.5"
  }
 },
 "nbformat": 4,
 "nbformat_minor": 5
}
